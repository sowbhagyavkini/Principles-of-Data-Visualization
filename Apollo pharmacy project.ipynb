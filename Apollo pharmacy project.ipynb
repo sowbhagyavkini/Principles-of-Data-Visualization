{
 "cells": [
  {
   "cell_type": "code",
   "execution_count": 1,
   "metadata": {},
   "outputs": [
    {
     "name": "stdout",
     "output_type": "stream",
     "text": [
      "Scraping and CSV export complete.\n"
     ]
    }
   ],
   "source": [
    "import requests\n",
    "from bs4 import BeautifulSoup\n",
    "import csv\n",
    "\n",
    "# Send an HTTP GET request to the URL\n",
    "url = \"https://www.apollopharmacy.in/shop-by-category/ayurveda\"\n",
    "response = requests.get(url)\n",
    "\n",
    "# Check if the request was successful\n",
    "if response.status_code == 200:\n",
    "    soup = BeautifulSoup(response.text, 'html.parser')\n",
    "    product_cards = soup.find_all(\"div\", class_=\"ProductCard_productCardGrid__myJjS\")\n",
    "\n",
    "    # Create a CSV file to store the scraped data\n",
    "    with open(\"apollopharmacy_products.csv\", \"w\", newline=\"\") as csv_file:\n",
    "        fieldnames = [\"Product Name\", \"Price\"]\n",
    "        writer = csv.DictWriter(csv_file, fieldnames=fieldnames)\n",
    "        writer.writeheader()\n",
    "\n",
    "        for card in product_cards:\n",
    "            product_name = card.find(\"p\", class_=\"ProductCard_productName__vXoqs\").text.strip()\n",
    "\n",
    "            price_element = card.find(\"span\", class_=\"ProductCard_mrpText__mmKOx\")\n",
    "            price = price_element.find_next(\"span\").text.strip() if price_element else \"N/A\"\n",
    "\n",
    "            writer.writerow({\n",
    "                \"Product Name\": product_name,\n",
    "                \"Price\": price,\n",
    "            })\n",
    "\n",
    "    print(\"Scraping and CSV export complete.\")\n",
    "else:\n",
    "    print(\"Failed to retrieve the webpage.\")\n"
   ]
  }
 ],
 "metadata": {
  "kernelspec": {
   "display_name": "Python 3",
   "language": "python",
   "name": "python3"
  },
  "language_info": {
   "codemirror_mode": {
    "name": "ipython",
    "version": 3
   },
   "file_extension": ".py",
   "mimetype": "text/x-python",
   "name": "python",
   "nbconvert_exporter": "python",
   "pygments_lexer": "ipython3",
   "version": "3.11.4"
  }
 },
 "nbformat": 4,
 "nbformat_minor": 2
}
