{
  "nbformat": 4,
  "nbformat_minor": 0,
  "metadata": {
    "colab": {
      "provenance": []
    },
    "kernelspec": {
      "name": "python3",
      "display_name": "Python 3"
    },
    "language_info": {
      "name": "python"
    }
  },
  "cells": [
    {
      "cell_type": "code",
      "source": [
        "!pip install fake_useragent"
      ],
      "metadata": {
        "colab": {
          "base_uri": "https://localhost:8080/"
        },
        "id": "2e8xvnYteq5G",
        "outputId": "b9166c88-6562-4f46-8463-2d5e8b778a07"
      },
      "execution_count": 2,
      "outputs": [
        {
          "output_type": "stream",
          "name": "stdout",
          "text": [
            "Collecting fake_useragent\n",
            "  Downloading fake_useragent-1.3.0-py3-none-any.whl (15 kB)\n",
            "Installing collected packages: fake_useragent\n",
            "Successfully installed fake_useragent-1.3.0\n"
          ]
        }
      ]
    },
    {
      "cell_type": "code",
      "execution_count": 3,
      "metadata": {
        "colab": {
          "base_uri": "https://localhost:8080/"
        },
        "id": "R_L2gpuSefTR",
        "outputId": "0d615e5d-598e-4b59-b2e6-804c22522296"
      },
      "outputs": [
        {
          "output_type": "stream",
          "name": "stdout",
          "text": [
            "[{'name': 'NutriGlow Aloe Vera Gel Great for Face, Hair, Acne, Sunburn, Bug Bites, Rashes, Glowing and Radiant Skin, 100gm', 'offerprice': 'Rs.  120'}, {'name': 'Organic Harvest Vitamin-C Facial Kit for Skin, Eliminates Fine Lines & Wrinkles, Infused with Acai Berry & Daisy Flower - 50gm', 'offerprice': 'Rs.  259'}, {'name': 'Joy Revivify Ubtan Face Mask 250 gm', 'offerprice': 'Rs.  199'}, {'name': \"NutriGlow NATURAL'S Ubtan Facial Kit For Glowing Skin, Tan Removal With Haldi & Chandan, 60gm\", 'offerprice': 'Rs.  119'}, {'name': 'Lotus Herbals Insta Glow Fairness 4 In1 Facial Kit 160g', 'offerprice': 'Rs.  699'}, {'name': 'VLCC - Skin Brightening Facial Kit For All Skin Type ( Pack of 1 )', 'offerprice': 'Rs.  262'}, {'name': 'Indus Valley Bio Organic 100% Pure Hibiscus Powder 100g', 'offerprice': 'Rs.  199'}, {'name': 'Barbers Crew - Fairness Pack for Normal Skin (Pack of 1)', 'offerprice': 'Rs.  179'}, {'name': \"Nutriglow NATURAL'S Wine, Papaya, Gold Kesar, Skin Whitening, Diamond Radiance Facial kit Each 60gm (Pack of 5)\", 'offerprice': 'Rs.  389'}, {'name': 'gemblue biocare Aloe Vera Multi- Purpose Gel, Enriched with Pure AloeVera & Vitamin E Moisturizer 500 ml', 'offerprice': 'Rs.  179'}, {'name': 'WOW Skin Science - Fairness Facial Kit For All Skin Type ( Pack of 7 )', 'offerprice': 'Rs.  399'}, {'name': 'Jovees Herbal De-Tan Face Pack For Women/Men| Tan Removal and Skin Brightening | Natural Ingredients |100 GM', 'offerprice': 'Rs.  189'}, {'name': 'Oxileaf Aroma D-Tan for Sun-Tan Removal Facial Kit 175 g', 'offerprice': 'Rs.  239'}, {'name': 'Mars by GHC Derma Roller for Hair Growth and Beard Growth, 0.5mm 540 Micro Needles, Pack of 2', 'offerprice': 'Rs.  319'}, {'name': 'SKIN SHINE WHITENING CREAM 15 gm ( pack of 5) Night Cream 75 gm Pack of 5', 'offerprice': 'Rs.  359'}, {'name': 'FACE FRESH GOLD BEAUTY CREAM Night Cream 30 gm', 'offerprice': 'Rs.  329'}, {'name': 'NutriGlow Wine Facial Cleanup Kit for Women for Glowing Skin 6-Pieces Skin Care Set 250gm+10ml with Free Face Massager', 'offerprice': 'Rs.  575'}, {'name': 'Paras Power Charcoal Peel Off Mask 390 gm Pack of 3', 'offerprice': 'Rs.  179'}, {'name': \"NutriGlow NATURAL'S Advanced Pro Formula Gold Kesar Facial Kit for Radiant Shine, Each 60gm (Pack of 2)\", 'offerprice': 'Rs.  159'}, {'name': 'VLCC Gold Facial Kit For Luminous & Radiant Complexion 60g', 'offerprice': 'Rs.  272'}]\n"
          ]
        }
      ],
      "source": [
        "import requests\n",
        "from bs4 import BeautifulSoup\n",
        "from fake_useragent import UserAgent\n",
        "import csv\n",
        "\n",
        "user_agent=UserAgent()\n",
        "urls = \"https://www.snapdeal.com/products/perfumes-beauty-skin-care?sort=plrty\"\n",
        "\n",
        "data = []\n",
        "\n",
        "\n",
        "response = requests.get(urls,headers={'user-agent':user_agent.chrome})\n",
        "soup = BeautifulSoup(response.content, 'html.parser')\n",
        "product_containers = soup.find_all('div', attrs={'class':'product-tuple-description'})\n",
        "for result in product_containers:\n",
        "      a={}\n",
        "      a['name'] = result.find('p',attrs={'class':'product-title'}).text\n",
        "      a['offerprice'] = result.find('span',attrs={'class':'lfloat product-price'}).text\n",
        "      data.append(a)\n",
        "print(data)\n",
        "filename = 'snapdeal21.csv'\n",
        "with open(filename, 'w', newline='') as f:\n",
        " w = csv.DictWriter(f,['name','offerprice'])\n",
        " w.writeheader()\n",
        " for a in data:\n",
        "    w.writerow(a)"
      ]
    }
  ]
}